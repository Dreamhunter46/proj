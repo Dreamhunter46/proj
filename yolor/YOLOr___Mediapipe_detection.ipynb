{
  "nbformat": 4,
  "nbformat_minor": 0,
  "metadata": {
    "colab": {
      "name": "YOLOr & Mediapipe detection.ipynb",
      "provenance": [],
      "collapsed_sections": []
    },
    "kernelspec": {
      "name": "python3",
      "display_name": "Python 3"
    },
    "accelerator": "GPU"
  },
  "cells": [
    {
      "cell_type": "markdown",
      "source": [
        "# Detect"
      ],
      "metadata": {
        "id": "rKUtxroam2RR"
      }
    },
    {
      "cell_type": "markdown",
      "source": [
        "Si ca plante, run une deuxième fois. Je crois que c'est a cause du shortcut sur le drive. Quand le fichier est dl sur le drive pas de problème, via github ca devrait etre ok.\n",
        "\n",
        "Link le drive: https://drive.google.com/drive/folders/17MKTSncY3nOBXDQPVOF8AXNrjAehIiI6?usp=sharing\n",
        "dans son drive"
      ],
      "metadata": {
        "id": "0PFqDVfakMTB"
      }
    },
    {
      "cell_type": "code",
      "source": [
        "# Based on https://github.com/ultralytics/yolov5 & https://github.com/chunkhai96/yolov5\n",
        "\n",
        "# need to have yolov5 folder on shortcut on drive TO UPDATE pour prendre de git\n",
        "from google.colab import drive\n",
        "drive.mount('/content/drive')\n",
        "\n",
        "%cd drive/MyDrive/yolov5\n",
        "%pip install -qr requirements.txt  # install\n",
        "\n",
        "import PIL \n",
        "import torch\n",
        "!pip install mediapipe\n"
      ],
      "metadata": {
        "colab": {
          "base_uri": "https://localhost:8080/"
        },
        "id": "mA1VnYUtEGw5",
        "outputId": "63853013-412d-4d87-922f-65e2176172e1"
      },
      "execution_count": 1,
      "outputs": [
        {
          "output_type": "stream",
          "name": "stdout",
          "text": [
            "Drive already mounted at /content/drive; to attempt to forcibly remount, call drive.mount(\"/content/drive\", force_remount=True).\n",
            "/content/drive/.shortcut-targets-by-id/17MKTSncY3nOBXDQPVOF8AXNrjAehIiI6/yolov5\n",
            "\u001b[K     |████████████████████████████████| 596 kB 5.3 MB/s \n",
            "\u001b[?25hCollecting mediapipe\n",
            "  Downloading mediapipe-0.8.9.1-cp37-cp37m-manylinux_2_17_x86_64.manylinux2014_x86_64.whl (32.7 MB)\n",
            "\u001b[K     |████████████████████████████████| 32.7 MB 1.3 MB/s \n",
            "\u001b[?25hRequirement already satisfied: absl-py in /usr/local/lib/python3.7/dist-packages (from mediapipe) (1.0.0)\n",
            "Requirement already satisfied: matplotlib in /usr/local/lib/python3.7/dist-packages (from mediapipe) (3.2.2)\n",
            "Requirement already satisfied: numpy in /usr/local/lib/python3.7/dist-packages (from mediapipe) (1.21.5)\n",
            "Requirement already satisfied: attrs>=19.1.0 in /usr/local/lib/python3.7/dist-packages (from mediapipe) (21.4.0)\n",
            "Requirement already satisfied: opencv-contrib-python in /usr/local/lib/python3.7/dist-packages (from mediapipe) (4.1.2.30)\n",
            "Requirement already satisfied: protobuf>=3.11.4 in /usr/local/lib/python3.7/dist-packages (from mediapipe) (3.17.3)\n",
            "Requirement already satisfied: six>=1.9 in /usr/local/lib/python3.7/dist-packages (from protobuf>=3.11.4->mediapipe) (1.15.0)\n",
            "Requirement already satisfied: cycler>=0.10 in /usr/local/lib/python3.7/dist-packages (from matplotlib->mediapipe) (0.11.0)\n",
            "Requirement already satisfied: python-dateutil>=2.1 in /usr/local/lib/python3.7/dist-packages (from matplotlib->mediapipe) (2.8.2)\n",
            "Requirement already satisfied: pyparsing!=2.0.4,!=2.1.2,!=2.1.6,>=2.0.1 in /usr/local/lib/python3.7/dist-packages (from matplotlib->mediapipe) (3.0.8)\n",
            "Requirement already satisfied: kiwisolver>=1.0.1 in /usr/local/lib/python3.7/dist-packages (from matplotlib->mediapipe) (1.4.2)\n",
            "Requirement already satisfied: typing-extensions in /usr/local/lib/python3.7/dist-packages (from kiwisolver>=1.0.1->matplotlib->mediapipe) (4.1.1)\n",
            "Installing collected packages: mediapipe\n",
            "Successfully installed mediapipe-0.8.9.1\n"
          ]
        }
      ]
    },
    {
      "cell_type": "code",
      "source": [
        "%run main.py --source 0 --weights yolor_p6.pt --conf 0.4"
      ],
      "metadata": {
        "colab": {
          "base_uri": "https://localhost:8080/",
          "height": 90
        },
        "id": "aSXdrfbkGrQu",
        "outputId": "9e07f3d5-21bb-465d-a665-7b6925328647"
      },
      "execution_count": 3,
      "outputs": [
        {
          "output_type": "stream",
          "name": "stdout",
          "text": [
            "Using CUDA device0 _CudaDeviceProperties(name='Tesla K80', total_memory=11441MB)\n",
            "\n",
            "Model Summary: 439 layers, 3.7265e+07 parameters, 3.7265e+07 gradients\n"
          ]
        },
        {
          "output_type": "display_data",
          "data": {
            "text/plain": [
              "<IPython.core.display.Javascript object>"
            ],
            "application/javascript": [
              "\n",
              "                var video;\n",
              "                var div = null;\n",
              "                var stream;\n",
              "                var captureCanvas;\n",
              "                var imgElement;\n",
              "                var labelElement;\n",
              "                \n",
              "                var pendingResolve = null;\n",
              "                var shutdown = false;\n",
              "        \n",
              "                function removeDom() {\n",
              "                    stream.getVideoTracks()[0].stop();\n",
              "                    video.remove();\n",
              "                    div.remove();\n",
              "                    video = null;\n",
              "                    div = null;\n",
              "                    stream = null;\n",
              "                    imgElement = null;\n",
              "                    captureCanvas = null;\n",
              "                    labelElement = null;\n",
              "                }\n",
              "        \n",
              "                function onAnimationFrame() {\n",
              "                    if (!shutdown) {\n",
              "                        window.requestAnimationFrame(onAnimationFrame);\n",
              "                    }\n",
              "                    if (pendingResolve) {\n",
              "                        var result = \"\";\n",
              "                        if (!shutdown) {\n",
              "                            captureCanvas.getContext('2d').drawImage(video, 0, 0, 640, 640);\n",
              "                            result = captureCanvas.toDataURL('image/jpeg', 0.8)\n",
              "                        }\n",
              "                        var lp = pendingResolve;\n",
              "                        pendingResolve = null;\n",
              "                        lp(result);\n",
              "                    }\n",
              "                }\n",
              "        \n",
              "                async function createDom() {\n",
              "                    if (div !== null) {\n",
              "                        return stream;\n",
              "                    }\n",
              "\n",
              "                    div = document.createElement('div');\n",
              "                    div.style.border = '2px solid black';\n",
              "                    div.style.padding = '10px';\n",
              "                    div.style.width = '100%';\n",
              "                    div.style.maxWidth = '700px';\n",
              "                    div.style.display = 'inline-block';\n",
              "                    document.body.appendChild(div);\n",
              "                \n",
              "                    const modelOut = document.createElement('div');\n",
              "                    modelOut.innerHTML = \"<span>Status:</span>\";\n",
              "                    labelElement = document.createElement('span');\n",
              "                    labelElement.innerText = 'No data';\n",
              "                    labelElement.style.fontWeight = 'bold';\n",
              "                    modelOut.appendChild(labelElement);\n",
              "                    div.appendChild(modelOut);\n",
              "                    \n",
              "                    video = document.createElement('video');\n",
              "                    video.style.display = 'block';\n",
              "                    video.style.float = 'left'\n",
              "                    video.style.marginRight = '10px'\n",
              "                    video.style.marginBottom = '10px'\n",
              "                    video.width = div.clientWidth - 100;\n",
              "                    video.setAttribute('playsinline', '');\n",
              "                    video.onclick = () => { shutdown = true; };\n",
              "                    stream = await navigator.mediaDevices.getUserMedia({video: { facingMode: \"environment\"}});\n",
              "                    div.appendChild(video);\n",
              "\n",
              "                    imgElement = document.createElement('img');\n",
              "                    imgElement.style.position = 'absolute';\n",
              "                    imgElement.style.zIndex = 1;\n",
              "                    div.appendChild(imgElement);\n",
              "                \n",
              "                    const instruction = document.createElement('button');\n",
              "                    instruction.innerHTML = 'Stop Video'\n",
              "                    instruction.style.fontSize = 'medium'\n",
              "                    div.appendChild(instruction);\n",
              "                    instruction.onclick = () => { shutdown = true; };\n",
              "                \n",
              "                    video.srcObject = stream;\n",
              "                    await video.play();\n",
              "\n",
              "                    captureCanvas = document.createElement('canvas');\n",
              "                    captureCanvas.width = 640; //video.videoWidth;\n",
              "                    captureCanvas.height = 640; //video.videoHeight;\n",
              "                    window.requestAnimationFrame(onAnimationFrame);\n",
              "                \n",
              "                    return stream;\n",
              "                }\n",
              "\n",
              "                async function takePhoto(label, imgData) {\n",
              "                    if (shutdown) {\n",
              "                    removeDom();\n",
              "                    shutdown = false;\n",
              "                    return '';\n",
              "                    }\n",
              "\n",
              "                    var preCreate = Date.now();\n",
              "                    stream = await createDom();\n",
              "                    \n",
              "                    var preShow = Date.now();\n",
              "                    if (label != \"\") {\n",
              "                    labelElement.innerHTML = label;\n",
              "                    }\n",
              "                \n",
              "                    if (imgData != \"\") {\n",
              "                    var videoRect = video.getClientRects()[0];\n",
              "                    imgElement.style.top = videoRect.top + \"px\";\n",
              "                    imgElement.style.left = videoRect.left + \"px\";\n",
              "                    imgElement.style.width = videoRect.width + \"px\";\n",
              "                    imgElement.style.height = videoRect.height + \"px\";\n",
              "                    imgElement.src = imgData;\n",
              "                    }\n",
              "            \n",
              "                    var preCapture = Date.now();\n",
              "                    var result = await new Promise(function(resolve, reject) {\n",
              "                    pendingResolve = resolve;\n",
              "                    });\n",
              "                    shutdown = false;\n",
              "            \n",
              "                    return {'create': preShow - preCreate, \n",
              "                            'show': preCapture - preShow, \n",
              "                            'capture': Date.now() - preCapture,\n",
              "                            'img': result};\n",
              "                }\n",
              "            "
            ]
          },
          "metadata": {}
        },
        {
          "output_type": "stream",
          "name": "stdout",
          "text": [
            "Done. (4.746s)\n"
          ]
        }
      ]
    }
  ]
}